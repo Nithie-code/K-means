{
  "nbformat": 4,
  "nbformat_minor": 0,
  "metadata": {
    "colab": {
      "provenance": [],
      "authorship_tag": "ABX9TyPf5ofN+6E5nr5gSyQ6FiTW",
      "include_colab_link": true
    },
    "kernelspec": {
      "name": "python3",
      "display_name": "Python 3"
    },
    "language_info": {
      "name": "python"
    }
  },
  "cells": [
    {
      "cell_type": "markdown",
      "metadata": {
        "id": "view-in-github",
        "colab_type": "text"
      },
      "source": [
        "<a href=\"https://colab.research.google.com/github/Nithie-code/K-means/blob/main/UnsupervisedLearning_K_means.ipynb\" target=\"_parent\"><img src=\"https://colab.research.google.com/assets/colab-badge.svg\" alt=\"Open In Colab\"/></a>"
      ]
    },
    {
      "cell_type": "markdown",
      "source": [
        "In this project, we develop  an unsupervised Learning method named K-means. We evaluate the method employing inertia & silhouette score"
      ],
      "metadata": {
        "id": "Cwjc60MYAlu1"
      }
    },
    {
      "cell_type": "code",
      "execution_count": 2,
      "metadata": {
        "id": "1YP-dbxdAM3s"
      },
      "outputs": [],
      "source": [
        "# imports : Operational packages\n",
        "import pandas as  pd\n",
        "import numpy as np\n",
        "## imports for modeling and evalation\n",
        "from sklearn.cluster import KMeans\n",
        "from sklearn.metrics import silhouette_score\n",
        "from sklearn.preprocessing import StandardScaler\n",
        "##imports visualization packages\n",
        "import seaborn as sns\n",
        "### imports  to create synthetic data\n",
        "from sklearn.datasets import make_blobs\n",
        "\n",
        "\n"
      ]
    },
    {
      "cell_type": "markdown",
      "source": [
        "**Create the data**"
      ],
      "metadata": {
        "id": "W2upnbqwCTPY"
      }
    },
    {
      "cell_type": "code",
      "source": [
        "# Create random number generator\n",
        "rng = np.random.default_rng(seed=44)\n",
        "#create synthetic data with unknown symbols\n",
        "centers=rng.integers(low=3,high=7)\n",
        "X,y=make_blobs(n_samples=1000,n_features=8,centers=centers,random_state=42)\n",
        "#create Dataframe\n",
        "X=pd.DataFrame(X)\n",
        "#visualize\n",
        "X.head(5)"
      ],
      "metadata": {
        "colab": {
          "base_uri": "https://localhost:8080/",
          "height": 206
        },
        "id": "qzQ4AsdYCW13",
        "outputId": "d2247f26-07e6-4c34-e19f-5a70e61ff65e"
      },
      "execution_count": 9,
      "outputs": [
        {
          "output_type": "execute_result",
          "data": {
            "text/plain": [
              "          0          1          2         3         4         5         6  \\\n",
              "0 -4.486901   0.827736  -0.427972 -4.398138  3.302230 -5.757506 -5.073428   \n",
              "1 -3.034008   0.496454  -0.965679 -5.132986  1.647726 -7.668761 -3.300405   \n",
              "2 -7.733641   9.682047  11.164681  5.750164 -5.005336 -8.408186  5.120232   \n",
              "3 -2.534752  10.187015   5.183479  1.602555 -6.107928 -9.728652 -7.689562   \n",
              "4 -7.609432  11.343119   7.873921  5.942684 -6.286156 -7.853906  4.050055   \n",
              "\n",
              "          7  \n",
              "0 -3.509684  \n",
              "1 -0.995386  \n",
              "2 -3.025356  \n",
              "3  5.583809  \n",
              "4 -1.236112  "
            ],
            "text/html": [
              "\n",
              "  <div id=\"df-0237910f-d958-47f8-8b1e-ef10af5e66ec\" class=\"colab-df-container\">\n",
              "    <div>\n",
              "<style scoped>\n",
              "    .dataframe tbody tr th:only-of-type {\n",
              "        vertical-align: middle;\n",
              "    }\n",
              "\n",
              "    .dataframe tbody tr th {\n",
              "        vertical-align: top;\n",
              "    }\n",
              "\n",
              "    .dataframe thead th {\n",
              "        text-align: right;\n",
              "    }\n",
              "</style>\n",
              "<table border=\"1\" class=\"dataframe\">\n",
              "  <thead>\n",
              "    <tr style=\"text-align: right;\">\n",
              "      <th></th>\n",
              "      <th>0</th>\n",
              "      <th>1</th>\n",
              "      <th>2</th>\n",
              "      <th>3</th>\n",
              "      <th>4</th>\n",
              "      <th>5</th>\n",
              "      <th>6</th>\n",
              "      <th>7</th>\n",
              "    </tr>\n",
              "  </thead>\n",
              "  <tbody>\n",
              "    <tr>\n",
              "      <th>0</th>\n",
              "      <td>-4.486901</td>\n",
              "      <td>0.827736</td>\n",
              "      <td>-0.427972</td>\n",
              "      <td>-4.398138</td>\n",
              "      <td>3.302230</td>\n",
              "      <td>-5.757506</td>\n",
              "      <td>-5.073428</td>\n",
              "      <td>-3.509684</td>\n",
              "    </tr>\n",
              "    <tr>\n",
              "      <th>1</th>\n",
              "      <td>-3.034008</td>\n",
              "      <td>0.496454</td>\n",
              "      <td>-0.965679</td>\n",
              "      <td>-5.132986</td>\n",
              "      <td>1.647726</td>\n",
              "      <td>-7.668761</td>\n",
              "      <td>-3.300405</td>\n",
              "      <td>-0.995386</td>\n",
              "    </tr>\n",
              "    <tr>\n",
              "      <th>2</th>\n",
              "      <td>-7.733641</td>\n",
              "      <td>9.682047</td>\n",
              "      <td>11.164681</td>\n",
              "      <td>5.750164</td>\n",
              "      <td>-5.005336</td>\n",
              "      <td>-8.408186</td>\n",
              "      <td>5.120232</td>\n",
              "      <td>-3.025356</td>\n",
              "    </tr>\n",
              "    <tr>\n",
              "      <th>3</th>\n",
              "      <td>-2.534752</td>\n",
              "      <td>10.187015</td>\n",
              "      <td>5.183479</td>\n",
              "      <td>1.602555</td>\n",
              "      <td>-6.107928</td>\n",
              "      <td>-9.728652</td>\n",
              "      <td>-7.689562</td>\n",
              "      <td>5.583809</td>\n",
              "    </tr>\n",
              "    <tr>\n",
              "      <th>4</th>\n",
              "      <td>-7.609432</td>\n",
              "      <td>11.343119</td>\n",
              "      <td>7.873921</td>\n",
              "      <td>5.942684</td>\n",
              "      <td>-6.286156</td>\n",
              "      <td>-7.853906</td>\n",
              "      <td>4.050055</td>\n",
              "      <td>-1.236112</td>\n",
              "    </tr>\n",
              "  </tbody>\n",
              "</table>\n",
              "</div>\n",
              "    <div class=\"colab-df-buttons\">\n",
              "\n",
              "  <div class=\"colab-df-container\">\n",
              "    <button class=\"colab-df-convert\" onclick=\"convertToInteractive('df-0237910f-d958-47f8-8b1e-ef10af5e66ec')\"\n",
              "            title=\"Convert this dataframe to an interactive table.\"\n",
              "            style=\"display:none;\">\n",
              "\n",
              "  <svg xmlns=\"http://www.w3.org/2000/svg\" height=\"24px\" viewBox=\"0 -960 960 960\">\n",
              "    <path d=\"M120-120v-720h720v720H120Zm60-500h600v-160H180v160Zm220 220h160v-160H400v160Zm0 220h160v-160H400v160ZM180-400h160v-160H180v160Zm440 0h160v-160H620v160ZM180-180h160v-160H180v160Zm440 0h160v-160H620v160Z\"/>\n",
              "  </svg>\n",
              "    </button>\n",
              "\n",
              "  <style>\n",
              "    .colab-df-container {\n",
              "      display:flex;\n",
              "      gap: 12px;\n",
              "    }\n",
              "\n",
              "    .colab-df-convert {\n",
              "      background-color: #E8F0FE;\n",
              "      border: none;\n",
              "      border-radius: 50%;\n",
              "      cursor: pointer;\n",
              "      display: none;\n",
              "      fill: #1967D2;\n",
              "      height: 32px;\n",
              "      padding: 0 0 0 0;\n",
              "      width: 32px;\n",
              "    }\n",
              "\n",
              "    .colab-df-convert:hover {\n",
              "      background-color: #E2EBFA;\n",
              "      box-shadow: 0px 1px 2px rgba(60, 64, 67, 0.3), 0px 1px 3px 1px rgba(60, 64, 67, 0.15);\n",
              "      fill: #174EA6;\n",
              "    }\n",
              "\n",
              "    .colab-df-buttons div {\n",
              "      margin-bottom: 4px;\n",
              "    }\n",
              "\n",
              "    [theme=dark] .colab-df-convert {\n",
              "      background-color: #3B4455;\n",
              "      fill: #D2E3FC;\n",
              "    }\n",
              "\n",
              "    [theme=dark] .colab-df-convert:hover {\n",
              "      background-color: #434B5C;\n",
              "      box-shadow: 0px 1px 3px 1px rgba(0, 0, 0, 0.15);\n",
              "      filter: drop-shadow(0px 1px 2px rgba(0, 0, 0, 0.3));\n",
              "      fill: #FFFFFF;\n",
              "    }\n",
              "  </style>\n",
              "\n",
              "    <script>\n",
              "      const buttonEl =\n",
              "        document.querySelector('#df-0237910f-d958-47f8-8b1e-ef10af5e66ec button.colab-df-convert');\n",
              "      buttonEl.style.display =\n",
              "        google.colab.kernel.accessAllowed ? 'block' : 'none';\n",
              "\n",
              "      async function convertToInteractive(key) {\n",
              "        const element = document.querySelector('#df-0237910f-d958-47f8-8b1e-ef10af5e66ec');\n",
              "        const dataTable =\n",
              "          await google.colab.kernel.invokeFunction('convertToInteractive',\n",
              "                                                    [key], {});\n",
              "        if (!dataTable) return;\n",
              "\n",
              "        const docLinkHtml = 'Like what you see? Visit the ' +\n",
              "          '<a target=\"_blank\" href=https://colab.research.google.com/notebooks/data_table.ipynb>data table notebook</a>'\n",
              "          + ' to learn more about interactive tables.';\n",
              "        element.innerHTML = '';\n",
              "        dataTable['output_type'] = 'display_data';\n",
              "        await google.colab.output.renderOutput(dataTable, element);\n",
              "        const docLink = document.createElement('div');\n",
              "        docLink.innerHTML = docLinkHtml;\n",
              "        element.appendChild(docLink);\n",
              "      }\n",
              "    </script>\n",
              "  </div>\n",
              "\n",
              "\n",
              "<div id=\"df-fca5fa9d-7a24-4f40-a83a-8d8e3fb89139\">\n",
              "  <button class=\"colab-df-quickchart\" onclick=\"quickchart('df-fca5fa9d-7a24-4f40-a83a-8d8e3fb89139')\"\n",
              "            title=\"Suggest charts\"\n",
              "            style=\"display:none;\">\n",
              "\n",
              "<svg xmlns=\"http://www.w3.org/2000/svg\" height=\"24px\"viewBox=\"0 0 24 24\"\n",
              "     width=\"24px\">\n",
              "    <g>\n",
              "        <path d=\"M19 3H5c-1.1 0-2 .9-2 2v14c0 1.1.9 2 2 2h14c1.1 0 2-.9 2-2V5c0-1.1-.9-2-2-2zM9 17H7v-7h2v7zm4 0h-2V7h2v10zm4 0h-2v-4h2v4z\"/>\n",
              "    </g>\n",
              "</svg>\n",
              "  </button>\n",
              "\n",
              "<style>\n",
              "  .colab-df-quickchart {\n",
              "      --bg-color: #E8F0FE;\n",
              "      --fill-color: #1967D2;\n",
              "      --hover-bg-color: #E2EBFA;\n",
              "      --hover-fill-color: #174EA6;\n",
              "      --disabled-fill-color: #AAA;\n",
              "      --disabled-bg-color: #DDD;\n",
              "  }\n",
              "\n",
              "  [theme=dark] .colab-df-quickchart {\n",
              "      --bg-color: #3B4455;\n",
              "      --fill-color: #D2E3FC;\n",
              "      --hover-bg-color: #434B5C;\n",
              "      --hover-fill-color: #FFFFFF;\n",
              "      --disabled-bg-color: #3B4455;\n",
              "      --disabled-fill-color: #666;\n",
              "  }\n",
              "\n",
              "  .colab-df-quickchart {\n",
              "    background-color: var(--bg-color);\n",
              "    border: none;\n",
              "    border-radius: 50%;\n",
              "    cursor: pointer;\n",
              "    display: none;\n",
              "    fill: var(--fill-color);\n",
              "    height: 32px;\n",
              "    padding: 0;\n",
              "    width: 32px;\n",
              "  }\n",
              "\n",
              "  .colab-df-quickchart:hover {\n",
              "    background-color: var(--hover-bg-color);\n",
              "    box-shadow: 0 1px 2px rgba(60, 64, 67, 0.3), 0 1px 3px 1px rgba(60, 64, 67, 0.15);\n",
              "    fill: var(--button-hover-fill-color);\n",
              "  }\n",
              "\n",
              "  .colab-df-quickchart-complete:disabled,\n",
              "  .colab-df-quickchart-complete:disabled:hover {\n",
              "    background-color: var(--disabled-bg-color);\n",
              "    fill: var(--disabled-fill-color);\n",
              "    box-shadow: none;\n",
              "  }\n",
              "\n",
              "  .colab-df-spinner {\n",
              "    border: 2px solid var(--fill-color);\n",
              "    border-color: transparent;\n",
              "    border-bottom-color: var(--fill-color);\n",
              "    animation:\n",
              "      spin 1s steps(1) infinite;\n",
              "  }\n",
              "\n",
              "  @keyframes spin {\n",
              "    0% {\n",
              "      border-color: transparent;\n",
              "      border-bottom-color: var(--fill-color);\n",
              "      border-left-color: var(--fill-color);\n",
              "    }\n",
              "    20% {\n",
              "      border-color: transparent;\n",
              "      border-left-color: var(--fill-color);\n",
              "      border-top-color: var(--fill-color);\n",
              "    }\n",
              "    30% {\n",
              "      border-color: transparent;\n",
              "      border-left-color: var(--fill-color);\n",
              "      border-top-color: var(--fill-color);\n",
              "      border-right-color: var(--fill-color);\n",
              "    }\n",
              "    40% {\n",
              "      border-color: transparent;\n",
              "      border-right-color: var(--fill-color);\n",
              "      border-top-color: var(--fill-color);\n",
              "    }\n",
              "    60% {\n",
              "      border-color: transparent;\n",
              "      border-right-color: var(--fill-color);\n",
              "    }\n",
              "    80% {\n",
              "      border-color: transparent;\n",
              "      border-right-color: var(--fill-color);\n",
              "      border-bottom-color: var(--fill-color);\n",
              "    }\n",
              "    90% {\n",
              "      border-color: transparent;\n",
              "      border-bottom-color: var(--fill-color);\n",
              "    }\n",
              "  }\n",
              "</style>\n",
              "\n",
              "  <script>\n",
              "    async function quickchart(key) {\n",
              "      const quickchartButtonEl =\n",
              "        document.querySelector('#' + key + ' button');\n",
              "      quickchartButtonEl.disabled = true;  // To prevent multiple clicks.\n",
              "      quickchartButtonEl.classList.add('colab-df-spinner');\n",
              "      try {\n",
              "        const charts = await google.colab.kernel.invokeFunction(\n",
              "            'suggestCharts', [key], {});\n",
              "      } catch (error) {\n",
              "        console.error('Error during call to suggestCharts:', error);\n",
              "      }\n",
              "      quickchartButtonEl.classList.remove('colab-df-spinner');\n",
              "      quickchartButtonEl.classList.add('colab-df-quickchart-complete');\n",
              "    }\n",
              "    (() => {\n",
              "      let quickchartButtonEl =\n",
              "        document.querySelector('#df-fca5fa9d-7a24-4f40-a83a-8d8e3fb89139 button');\n",
              "      quickchartButtonEl.style.display =\n",
              "        google.colab.kernel.accessAllowed ? 'block' : 'none';\n",
              "    })();\n",
              "  </script>\n",
              "</div>\n",
              "\n",
              "    </div>\n",
              "  </div>\n"
            ]
          },
          "metadata": {},
          "execution_count": 9
        }
      ]
    },
    {
      "cell_type": "markdown",
      "source": [
        "**Scale the Data**"
      ],
      "metadata": {
        "id": "-4Bu-HxkF3wY"
      }
    },
    {
      "cell_type": "code",
      "source": [
        "#StandardScaler scales each point xᵢ by subtracting the mean value for that feature and dividing by the standard deviation:x-scaled = (xᵢ – mean(x)) / σ\n",
        "# Scale the data\n",
        "X_scaled = StandardScaler().fit_transform(X)\n",
        "X_scaled[:2,:]"
      ],
      "metadata": {
        "colab": {
          "base_uri": "https://localhost:8080/"
        },
        "id": "ToVug6ZnF8IM",
        "outputId": "d92c76c8-8466-42c8-9bdb-3a15fa4f5748"
      },
      "execution_count": 11,
      "outputs": [
        {
          "output_type": "execute_result",
          "data": {
            "text/plain": [
              "array([[-0.45793513, -1.42077967,  0.02954254, -1.47853899,  0.66675198,\n",
              "         1.08442627, -0.47706867, -0.32150213],\n",
              "       [-0.06301693, -1.51860612, -0.04735937, -1.6312287 ,  0.32835362,\n",
              "        -0.17506422, -0.11730542,  0.16894928]])"
            ]
          },
          "metadata": {},
          "execution_count": 11
        }
      ]
    },
    {
      "cell_type": "markdown",
      "source": [
        "**Instantiate the Model**"
      ],
      "metadata": {
        "id": "hM0qT6V4Akr9"
      }
    },
    {
      "cell_type": "code",
      "source": [
        "# Instantiate model\n",
        "kmeans1 = KMeans(n_clusters=3, random_state=42)"
      ],
      "metadata": {
        "id": "R_QyJqLRHSqq"
      },
      "execution_count": 12,
      "outputs": []
    },
    {
      "cell_type": "markdown",
      "source": [
        "**Fit the Model**"
      ],
      "metadata": {
        "id": "liuvCzBXHirg"
      }
    },
    {
      "cell_type": "code",
      "source": [
        "# Fit the model\n",
        "kmeans1.fit(X_scaled)"
      ],
      "metadata": {
        "colab": {
          "base_uri": "https://localhost:8080/",
          "height": 110
        },
        "id": "PBb2peG0HlXd",
        "outputId": "ccb7c3d9-ae41-45c9-e28d-e5cd9d851fb7"
      },
      "execution_count": 13,
      "outputs": [
        {
          "output_type": "stream",
          "name": "stderr",
          "text": [
            "/usr/local/lib/python3.10/dist-packages/sklearn/cluster/_kmeans.py:870: FutureWarning: The default value of `n_init` will change from 10 to 'auto' in 1.4. Set the value of `n_init` explicitly to suppress the warning\n",
            "  warnings.warn(\n"
          ]
        },
        {
          "output_type": "execute_result",
          "data": {
            "text/plain": [
              "KMeans(n_clusters=3, random_state=42)"
            ],
            "text/html": [
              "<style>#sk-container-id-1 {color: black;background-color: white;}#sk-container-id-1 pre{padding: 0;}#sk-container-id-1 div.sk-toggleable {background-color: white;}#sk-container-id-1 label.sk-toggleable__label {cursor: pointer;display: block;width: 100%;margin-bottom: 0;padding: 0.3em;box-sizing: border-box;text-align: center;}#sk-container-id-1 label.sk-toggleable__label-arrow:before {content: \"▸\";float: left;margin-right: 0.25em;color: #696969;}#sk-container-id-1 label.sk-toggleable__label-arrow:hover:before {color: black;}#sk-container-id-1 div.sk-estimator:hover label.sk-toggleable__label-arrow:before {color: black;}#sk-container-id-1 div.sk-toggleable__content {max-height: 0;max-width: 0;overflow: hidden;text-align: left;background-color: #f0f8ff;}#sk-container-id-1 div.sk-toggleable__content pre {margin: 0.2em;color: black;border-radius: 0.25em;background-color: #f0f8ff;}#sk-container-id-1 input.sk-toggleable__control:checked~div.sk-toggleable__content {max-height: 200px;max-width: 100%;overflow: auto;}#sk-container-id-1 input.sk-toggleable__control:checked~label.sk-toggleable__label-arrow:before {content: \"▾\";}#sk-container-id-1 div.sk-estimator input.sk-toggleable__control:checked~label.sk-toggleable__label {background-color: #d4ebff;}#sk-container-id-1 div.sk-label input.sk-toggleable__control:checked~label.sk-toggleable__label {background-color: #d4ebff;}#sk-container-id-1 input.sk-hidden--visually {border: 0;clip: rect(1px 1px 1px 1px);clip: rect(1px, 1px, 1px, 1px);height: 1px;margin: -1px;overflow: hidden;padding: 0;position: absolute;width: 1px;}#sk-container-id-1 div.sk-estimator {font-family: monospace;background-color: #f0f8ff;border: 1px dotted black;border-radius: 0.25em;box-sizing: border-box;margin-bottom: 0.5em;}#sk-container-id-1 div.sk-estimator:hover {background-color: #d4ebff;}#sk-container-id-1 div.sk-parallel-item::after {content: \"\";width: 100%;border-bottom: 1px solid gray;flex-grow: 1;}#sk-container-id-1 div.sk-label:hover label.sk-toggleable__label {background-color: #d4ebff;}#sk-container-id-1 div.sk-serial::before {content: \"\";position: absolute;border-left: 1px solid gray;box-sizing: border-box;top: 0;bottom: 0;left: 50%;z-index: 0;}#sk-container-id-1 div.sk-serial {display: flex;flex-direction: column;align-items: center;background-color: white;padding-right: 0.2em;padding-left: 0.2em;position: relative;}#sk-container-id-1 div.sk-item {position: relative;z-index: 1;}#sk-container-id-1 div.sk-parallel {display: flex;align-items: stretch;justify-content: center;background-color: white;position: relative;}#sk-container-id-1 div.sk-item::before, #sk-container-id-1 div.sk-parallel-item::before {content: \"\";position: absolute;border-left: 1px solid gray;box-sizing: border-box;top: 0;bottom: 0;left: 50%;z-index: -1;}#sk-container-id-1 div.sk-parallel-item {display: flex;flex-direction: column;z-index: 1;position: relative;background-color: white;}#sk-container-id-1 div.sk-parallel-item:first-child::after {align-self: flex-end;width: 50%;}#sk-container-id-1 div.sk-parallel-item:last-child::after {align-self: flex-start;width: 50%;}#sk-container-id-1 div.sk-parallel-item:only-child::after {width: 0;}#sk-container-id-1 div.sk-dashed-wrapped {border: 1px dashed gray;margin: 0 0.4em 0.5em 0.4em;box-sizing: border-box;padding-bottom: 0.4em;background-color: white;}#sk-container-id-1 div.sk-label label {font-family: monospace;font-weight: bold;display: inline-block;line-height: 1.2em;}#sk-container-id-1 div.sk-label-container {text-align: center;}#sk-container-id-1 div.sk-container {/* jupyter's `normalize.less` sets `[hidden] { display: none; }` but bootstrap.min.css set `[hidden] { display: none !important; }` so we also need the `!important` here to be able to override the default hidden behavior on the sphinx rendered scikit-learn.org. See: https://github.com/scikit-learn/scikit-learn/issues/21755 */display: inline-block !important;position: relative;}#sk-container-id-1 div.sk-text-repr-fallback {display: none;}</style><div id=\"sk-container-id-1\" class=\"sk-top-container\"><div class=\"sk-text-repr-fallback\"><pre>KMeans(n_clusters=3, random_state=42)</pre><b>In a Jupyter environment, please rerun this cell to show the HTML representation or trust the notebook. <br />On GitHub, the HTML representation is unable to render, please try loading this page with nbviewer.org.</b></div><div class=\"sk-container\" hidden><div class=\"sk-item\"><div class=\"sk-estimator sk-toggleable\"><input class=\"sk-toggleable__control sk-hidden--visually\" id=\"sk-estimator-id-1\" type=\"checkbox\" checked><label for=\"sk-estimator-id-1\" class=\"sk-toggleable__label sk-toggleable__label-arrow\">KMeans</label><div class=\"sk-toggleable__content\"><pre>KMeans(n_clusters=3, random_state=42)</pre></div></div></div></div></div>"
            ]
          },
          "metadata": {},
          "execution_count": 13
        }
      ]
    },
    {
      "cell_type": "code",
      "source": [
        "#\n",
        "print('Clusters: ', kmeans1.labels_)\n",
        "print('Inertia: ', kmeans1.inertia_)"
      ],
      "metadata": {
        "colab": {
          "base_uri": "https://localhost:8080/"
        },
        "id": "PFcxeVwvIPgm",
        "outputId": "9a9ba22a-34a0-4212-f850-20337f864788"
      },
      "execution_count": 15,
      "outputs": [
        {
          "output_type": "stream",
          "name": "stdout",
          "text": [
            "Clusters:  [1 1 2 2 2 1 1 1 0 2 0 2 0 0 2 1 0 2 2 2 0 1 1 1 0 1 2 1 2 2 2 0 2 2 2 1 1\n",
            " 1 0 2 0 2 1 2 2 1 2 2 1 1 2 0 2 2 0 2 1 2 1 1 0 2 1 1 2 2 2 1 0 2 2 1 1 0\n",
            " 2 2 1 2 0 0 1 2 1 2 1 2 1 0 2 2 2 1 1 1 1 1 2 1 1 2 1 2 0 1 0 2 0 2 2 2 2\n",
            " 2 0 1 1 1 1 1 2 2 0 2 2 2 1 2 1 0 2 1 0 2 0 0 1 1 2 2 1 2 2 0 1 2 2 2 1 0\n",
            " 1 2 1 2 0 2 1 2 0 2 1 1 1 1 2 1 1 1 1 2 2 1 1 1 1 2 0 2 2 0 1 2 1 2 1 1 0\n",
            " 2 1 1 2 2 2 2 0 2 0 2 2 0 1 0 1 2 0 1 2 2 2 2 1 0 2 0 0 2 2 1 0 1 1 1 2 1\n",
            " 2 1 1 1 2 1 1 1 1 0 2 1 0 1 0 1 1 2 1 0 0 2 2 2 1 1 1 1 2 2 1 0 2 1 1 1 1\n",
            " 1 0 1 2 2 1 1 2 2 1 1 0 1 2 1 1 0 1 2 2 2 1 2 0 2 2 1 1 1 1 1 0 1 2 2 0 2\n",
            " 2 0 0 2 1 1 0 1 0 2 2 1 2 2 1 1 1 1 2 2 2 0 0 0 1 1 1 2 2 2 0 0 1 2 2 2 1\n",
            " 2 1 0 2 2 1 0 2 1 0 0 0 2 2 1 1 1 2 1 0 2 0 2 0 2 2 2 2 0 2 1 2 1 2 1 0 1\n",
            " 2 1 1 1 1 1 2 2 2 0 1 1 1 1 1 1 1 1 2 2 1 2 2 0 2 1 0 2 2 2 2 1 2 2 2 1 2\n",
            " 2 2 2 1 2 1 2 1 1 1 0 1 2 1 2 1 2 0 2 0 0 2 1 1 1 2 1 1 2 1 1 2 1 2 2 0 0\n",
            " 2 0 2 1 1 2 1 0 1 0 1 2 0 2 1 0 0 1 2 1 1 1 1 0 1 2 1 2 2 2 2 0 1 0 1 1 2\n",
            " 2 2 1 2 0 2 1 2 0 1 1 0 1 2 1 1 2 2 0 1 1 2 0 2 0 2 2 2 1 0 0 1 2 1 0 1 1\n",
            " 1 2 0 2 2 1 0 2 0 1 1 2 2 2 0 1 2 0 1 2 0 2 2 2 2 2 0 0 2 0 2 2 1 2 1 2 2\n",
            " 1 2 2 2 1 1 2 1 0 2 0 1 1 1 0 1 1 1 0 2 2 2 2 2 2 1 1 1 0 0 1 2 2 1 1 1 1\n",
            " 1 2 2 2 2 2 2 0 1 1 1 0 1 2 2 2 2 1 1 1 1 1 0 2 2 2 2 0 2 1 2 1 1 2 0 0 1\n",
            " 1 1 1 2 2 2 1 2 1 1 1 1 0 1 2 1 1 0 2 2 1 0 1 2 2 1 0 2 2 0 1 2 1 2 1 0 1\n",
            " 1 2 2 1 2 2 1 2 1 1 2 2 1 2 1 0 0 1 1 1 1 0 2 1 1 2 1 0 2 1 2 2 1 1 1 2 2\n",
            " 0 2 1 2 2 0 0 2 1 2 0 2 1 1 2 1 1 2 2 0 1 2 0 1 1 2 2 2 1 2 1 1 1 1 2 1 1\n",
            " 0 1 2 0 1 0 2 2 0 0 1 1 2 1 2 2 0 2 2 1 1 1 2 1 2 1 2 1 1 2 1 0 2 0 0 2 1\n",
            " 0 2 1 0 1 2 1 0 1 1 1 2 2 1 2 0 1 1 1 1 0 2 1 1 0 1 0 1 1 2 2 1 0 0 2 1 2\n",
            " 0 1 1 0 0 1 1 1 1 0 1 1 1 2 1 1 1 2 0 1 1 0 1 1 2 1 1 0 0 2 0 1 0 2 2 2 2\n",
            " 0 1 1 2 1 1 0 1 0 1 0 1 2 0 2 0 0 1 2 1 2 0 2 2 0 1 0 2 0 1 1 2 2 1 2 0 2\n",
            " 0 2 1 1 1 2 1 2 1 0 2 2 1 2 0 1 2 0 2 2 0 0 0 2 1 2 2 1 1 0 2 2 2 1 1 1 2\n",
            " 2 1 2 2 2 1 2 2 0 2 0 2 0 1 1 2 1 0 0 0 2 2 1 2 2 1 2 0 1 0 1 2 2 1 2 2 1\n",
            " 1 2 1 1 2 1 1 2 2 1 1 0 2 0 2 2 1 0 2 2 2 2 2 2 2 2 0 0 2 1 0 1 2 1 2 1 2\n",
            " 2]\n",
            "Inertia:  3016.287030536213\n"
          ]
        }
      ]
    },
    {
      "cell_type": "markdown",
      "source": [
        "**Evaluate inertia**"
      ],
      "metadata": {
        "id": "l9bXWaCQI6jt"
      }
    },
    {
      "cell_type": "code",
      "source": [
        "# we know that the  inertia score isn't helpful by itself thus we need to evaluate it\n",
        "# Create a list from 2-10.\n",
        "num_clusters = [i for i in range(2, 11)]\n",
        "\n",
        "def kmeans_inertia(num_clusters, x_vals):\n",
        "    '''\n",
        "    Fits a KMeans model for different values of k.\n",
        "    Calculates an inertia score for each k value.\n",
        "\n",
        "    Args:\n",
        "        num_clusters: (list of ints)  - The different k values to try\n",
        "        x_vals:       (array)         - The training data\n",
        "\n",
        "    Returns:\n",
        "        inertia:      (list)          - A list of inertia scores, one for each \\\n",
        "                                      value of k\n",
        "    '''\n",
        "\n",
        "    inertia = []\n",
        "    for num in num_clusters:\n",
        "        kms = KMeans(n_clusters=num, random_state=42)\n",
        "        kms.fit(x_vals)\n",
        "        inertia.append(kms.inertia_)\n",
        "\n",
        "    return inertia"
      ],
      "metadata": {
        "id": "3IcDbTO6ImnQ"
      },
      "execution_count": 16,
      "outputs": []
    },
    {
      "cell_type": "code",
      "source": [
        "#Calculate inertia for k=2-10\n",
        "inertia=kmeans_inertia(num_clusters,X_scaled)\n",
        "print(\"Inertia score:\")\n",
        "print(\"*************\")\n",
        "inertia"
      ],
      "metadata": {
        "colab": {
          "base_uri": "https://localhost:8080/"
        },
        "id": "JLjynKpEJnAC",
        "outputId": "1fe8548d-5395-4ae6-b934-e5915912cdf9"
      },
      "execution_count": 21,
      "outputs": [
        {
          "output_type": "stream",
          "name": "stderr",
          "text": [
            "/usr/local/lib/python3.10/dist-packages/sklearn/cluster/_kmeans.py:870: FutureWarning: The default value of `n_init` will change from 10 to 'auto' in 1.4. Set the value of `n_init` explicitly to suppress the warning\n",
            "  warnings.warn(\n",
            "/usr/local/lib/python3.10/dist-packages/sklearn/cluster/_kmeans.py:870: FutureWarning: The default value of `n_init` will change from 10 to 'auto' in 1.4. Set the value of `n_init` explicitly to suppress the warning\n",
            "  warnings.warn(\n",
            "/usr/local/lib/python3.10/dist-packages/sklearn/cluster/_kmeans.py:870: FutureWarning: The default value of `n_init` will change from 10 to 'auto' in 1.4. Set the value of `n_init` explicitly to suppress the warning\n",
            "  warnings.warn(\n",
            "/usr/local/lib/python3.10/dist-packages/sklearn/cluster/_kmeans.py:870: FutureWarning: The default value of `n_init` will change from 10 to 'auto' in 1.4. Set the value of `n_init` explicitly to suppress the warning\n",
            "  warnings.warn(\n",
            "/usr/local/lib/python3.10/dist-packages/sklearn/cluster/_kmeans.py:870: FutureWarning: The default value of `n_init` will change from 10 to 'auto' in 1.4. Set the value of `n_init` explicitly to suppress the warning\n",
            "  warnings.warn(\n",
            "/usr/local/lib/python3.10/dist-packages/sklearn/cluster/_kmeans.py:870: FutureWarning: The default value of `n_init` will change from 10 to 'auto' in 1.4. Set the value of `n_init` explicitly to suppress the warning\n",
            "  warnings.warn(\n",
            "/usr/local/lib/python3.10/dist-packages/sklearn/cluster/_kmeans.py:870: FutureWarning: The default value of `n_init` will change from 10 to 'auto' in 1.4. Set the value of `n_init` explicitly to suppress the warning\n",
            "  warnings.warn(\n",
            "/usr/local/lib/python3.10/dist-packages/sklearn/cluster/_kmeans.py:870: FutureWarning: The default value of `n_init` will change from 10 to 'auto' in 1.4. Set the value of `n_init` explicitly to suppress the warning\n",
            "  warnings.warn(\n",
            "/usr/local/lib/python3.10/dist-packages/sklearn/cluster/_kmeans.py:870: FutureWarning: The default value of `n_init` will change from 10 to 'auto' in 1.4. Set the value of `n_init` explicitly to suppress the warning\n",
            "  warnings.warn(\n"
          ]
        },
        {
          "output_type": "stream",
          "name": "stdout",
          "text": [
            "Inertia score:\n",
            "*************\n"
          ]
        },
        {
          "output_type": "execute_result",
          "data": {
            "text/plain": [
              "[4678.004903408388,\n",
              " 3016.287030536213,\n",
              " 1609.8039986287654,\n",
              " 793.6500722981061,\n",
              " 727.0106399094848,\n",
              " 672.3592584718573,\n",
              " 612.6511014557728,\n",
              " 558.0839466980009,\n",
              " 508.72285147861396]"
            ]
          },
          "metadata": {},
          "execution_count": 21
        }
      ]
    },
    {
      "cell_type": "markdown",
      "source": [
        "**Elbow Plot**"
      ],
      "metadata": {
        "id": "RIm03W-KKUgW"
      }
    },
    {
      "cell_type": "code",
      "source": [
        "#Create an elbow plot\n",
        "plot = sns.lineplot(x=num_clusters,y=inertia)\n",
        "plot.set_xlabel(\"Number of clusters\")\n",
        "plot.set_ylabel(\"Inertia\")\n",
        "plot.set_title(\"Inertia vs # of Clusters\")"
      ],
      "metadata": {
        "colab": {
          "base_uri": "https://localhost:8080/",
          "height": 489
        },
        "id": "hI38FPmmKXYe",
        "outputId": "1882cef6-bff4-4743-8209-09a949a88e2a"
      },
      "execution_count": 23,
      "outputs": [
        {
          "output_type": "execute_result",
          "data": {
            "text/plain": [
              "Text(0.5, 1.0, 'Inertia vs # of Clusters')"
            ]
          },
          "metadata": {},
          "execution_count": 23
        },
        {
          "output_type": "display_data",
          "data": {
            "text/plain": [
              "<Figure size 640x480 with 1 Axes>"
            ],
            "image/png": "[encoded data removed]"
          },
          "metadata": {}
        }
      ]
    },
    {
      "cell_type": "markdown",
      "source": [
        "This figure depicts that model with more than five clusters doesn't seem to reduce inertia much at all. we can conclude that  a 5-cluster model might be optimal."
      ],
      "metadata": {
        "id": "G2SlcqGXLNeE"
      }
    },
    {
      "cell_type": "markdown",
      "source": [
        "**Evaluate silhouette score**"
      ],
      "metadata": {
        "id": "2uqeu9EnLe6p"
      }
    },
    {
      "cell_type": "code",
      "source": [
        "# Get silhouette score for kmeans3 model\n",
        "kmeans1_sil_score = silhouette_score(X_scaled, kmeans1.labels_)\n",
        "print('Silhouette Score: ')\n",
        "kmeans1_sil_score"
      ],
      "metadata": {
        "colab": {
          "base_uri": "https://localhost:8080/"
        },
        "id": "R1MJX8kmLMVV",
        "outputId": "9ae5113b-dd55-4de8-82e8-2ac6c2fe4cd3"
      },
      "execution_count": 29,
      "outputs": [
        {
          "output_type": "stream",
          "name": "stdout",
          "text": [
            "Silhouette Score: \n"
          ]
        },
        {
          "output_type": "execute_result",
          "data": {
            "text/plain": [
              "0.49335828624002037"
            ]
          },
          "metadata": {},
          "execution_count": 29
        }
      ]
    },
    {
      "cell_type": "markdown",
      "source": [
        "Similarly to inertia score, the silhouette score doesn't mean anything alone therefore we compore it with each value of k, from 2 through 10."
      ],
      "metadata": {
        "id": "Dd_eUKhLL8yQ"
      }
    },
    {
      "cell_type": "code",
      "source": [
        "def kmeans_sil(num_clusters, x_vals):\n",
        "    '''\n",
        "    Fits a KMeans model for different values of k.\n",
        "    Calculates a silhouette score for each k value\n",
        "\n",
        "    Args:\n",
        "        num_clusters: (list of ints)  - The different k values to try\n",
        "        x_vals:       (array)         - The training data\n",
        "\n",
        "    Returns:\n",
        "        sil_score:    (list)          - A list of silhouette scores, one for each \\\n",
        "                                      value of k\n",
        "    '''\n",
        "\n",
        "    sil_score = []\n",
        "    for num in num_clusters:\n",
        "        kms = KMeans(n_clusters=num, random_state=42)\n",
        "        kms.fit(x_vals)\n",
        "        sil_score.append(silhouette_score(x_vals, kms.labels_))\n",
        "\n",
        "    return sil_score"
      ],
      "metadata": {
        "id": "OsXMfwgNL7eE"
      },
      "execution_count": 27,
      "outputs": []
    },
    {
      "cell_type": "code",
      "source": [
        "# Calculate silhouette scores for k=2-10\n",
        "sil_score = kmeans_sil(num_clusters, X_scaled)\n",
        "print(\"Silhouette Score: \", sil_score)"
      ],
      "metadata": {
        "id": "ZXlFFnNmMUJf"
      },
      "execution_count": null,
      "outputs": []
    },
    {
      "cell_type": "code",
      "source": [
        "# Create a line plot of silhouette scores\n",
        "plot = sns.lineplot(x=num_clusters, y=sil_score)\n",
        "plot.set_xlabel(\"# of clusters\");\n",
        "plot.set_ylabel(\"Silhouette Score\");"
      ],
      "metadata": {
        "colab": {
          "base_uri": "https://localhost:8080/",
          "height": 449
        },
        "id": "BQgYTWtVMq__",
        "outputId": "a77e1801-b751-48b5-8de2-bfc99f5cd36e"
      },
      "execution_count": 30,
      "outputs": [
        {
          "output_type": "display_data",
          "data": {
            "text/plain": [
              "<Figure size 640x480 with 1 Axes>"
            ],
            "image/png": "[encoded data removed]"
          },
          "metadata": {}
        }
      ]
    },
    {
      "cell_type": "markdown",
      "source": [
        "This figure  confirms what we saw in the inertia analysis, where we noticed an elbow where k=5. Therefore,between our inertia and silhouette score analyses, we can say with a reasonable degree of confidence that it makes the most sense to group our data into five cluster"
      ],
      "metadata": {
        "id": "9t8BsS9GOIEH"
      }
    },
    {
      "cell_type": "code",
      "source": [
        "# let us confirm our analysis\n",
        "print(\"center is  :\",centers)\n"
      ],
      "metadata": {
        "colab": {
          "base_uri": "https://localhost:8080/"
        },
        "id": "yUpORKwgOdBd",
        "outputId": "ffe7a947-e4ae-4bb0-9dea-8e1889e930b6"
      },
      "execution_count": 32,
      "outputs": [
        {
          "output_type": "stream",
          "name": "stdout",
          "text": [
            "center is  : 5\n"
          ]
        }
      ]
    },
    {
      "cell_type": "code",
      "source": [
        "# Fit a 5-cluster model to the data\n",
        "kmeans5 = KMeans(n_clusters=5, random_state=42)\n",
        "kmeans5.fit(X_scaled)"
      ],
      "metadata": {
        "id": "MPH1FpxiOuc2"
      },
      "execution_count": null,
      "outputs": []
    },
    {
      "cell_type": "code",
      "source": [
        "print(kmeans5.labels_[:5])\n",
        "print('Unique labels:', np.unique(kmeans5.labels_))"
      ],
      "metadata": {
        "colab": {
          "base_uri": "https://localhost:8080/"
        },
        "id": "3NfVFnZMO0AD",
        "outputId": "5d7c4553-cc02-44c2-e7e5-ce8f587e335d"
      },
      "execution_count": 34,
      "outputs": [
        {
          "output_type": "stream",
          "name": "stdout",
          "text": [
            "[1 1 3 2 3]\n",
            "Unique labels: [0 1 2 3 4]\n"
          ]
        }
      ]
    },
    {
      "cell_type": "code",
      "source": [
        "# Create new column that indicates cluster assignment in original dataframe\n",
        "X['cluster'] = kmeans5.labels_\n",
        "X.head()"
      ],
      "metadata": {
        "colab": {
          "base_uri": "https://localhost:8080/",
          "height": 206
        },
        "id": "5Vy3QBe6O8QI",
        "outputId": "ba684e39-a248-46ef-fb2a-494afecb13ad"
      },
      "execution_count": 35,
      "outputs": [
        {
          "output_type": "execute_result",
          "data": {
            "text/plain": [
              "          0          1          2         3         4         5         6  \\\n",
              "0 -4.486901   0.827736  -0.427972 -4.398138  3.302230 -5.757506 -5.073428   \n",
              "1 -3.034008   0.496454  -0.965679 -5.132986  1.647726 -7.668761 -3.300405   \n",
              "2 -7.733641   9.682047  11.164681  5.750164 -5.005336 -8.408186  5.120232   \n",
              "3 -2.534752  10.187015   5.183479  1.602555 -6.107928 -9.728652 -7.689562   \n",
              "4 -7.609432  11.343119   7.873921  5.942684 -6.286156 -7.853906  4.050055   \n",
              "\n",
              "          7  cluster  \n",
              "0 -3.509684        1  \n",
              "1 -0.995386        1  \n",
              "2 -3.025356        3  \n",
              "3  5.583809        2  \n",
              "4 -1.236112        3  "
            ],
            "text/html": [
              "\n",
              "  <div id=\"df-8a14f047-6c03-4c03-bf5c-d4d9c42febde\" class=\"colab-df-container\">\n",
              "    <div>\n",
              "<style scoped>\n",
              "    .dataframe tbody tr th:only-of-type {\n",
              "        vertical-align: middle;\n",
              "    }\n",
              "\n",
              "    .dataframe tbody tr th {\n",
              "        vertical-align: top;\n",
              "    }\n",
              "\n",
              "    .dataframe thead th {\n",
              "        text-align: right;\n",
              "    }\n",
              "</style>\n",
              "<table border=\"1\" class=\"dataframe\">\n",
              "  <thead>\n",
              "    <tr style=\"text-align: right;\">\n",
              "      <th></th>\n",
              "      <th>0</th>\n",
              "      <th>1</th>\n",
              "      <th>2</th>\n",
              "      <th>3</th>\n",
              "      <th>4</th>\n",
              "      <th>5</th>\n",
              "      <th>6</th>\n",
              "      <th>7</th>\n",
              "      <th>cluster</th>\n",
              "    </tr>\n",
              "  </thead>\n",
              "  <tbody>\n",
              "    <tr>\n",
              "      <th>0</th>\n",
              "      <td>-4.486901</td>\n",
              "      <td>0.827736</td>\n",
              "      <td>-0.427972</td>\n",
              "      <td>-4.398138</td>\n",
              "      <td>3.302230</td>\n",
              "      <td>-5.757506</td>\n",
              "      <td>-5.073428</td>\n",
              "      <td>-3.509684</td>\n",
              "      <td>1</td>\n",
              "    </tr>\n",
              "    <tr>\n",
              "      <th>1</th>\n",
              "      <td>-3.034008</td>\n",
              "      <td>0.496454</td>\n",
              "      <td>-0.965679</td>\n",
              "      <td>-5.132986</td>\n",
              "      <td>1.647726</td>\n",
              "      <td>-7.668761</td>\n",
              "      <td>-3.300405</td>\n",
              "      <td>-0.995386</td>\n",
              "      <td>1</td>\n",
              "    </tr>\n",
              "    <tr>\n",
              "      <th>2</th>\n",
              "      <td>-7.733641</td>\n",
              "      <td>9.682047</td>\n",
              "      <td>11.164681</td>\n",
              "      <td>5.750164</td>\n",
              "      <td>-5.005336</td>\n",
              "      <td>-8.408186</td>\n",
              "      <td>5.120232</td>\n",
              "      <td>-3.025356</td>\n",
              "      <td>3</td>\n",
              "    </tr>\n",
              "    <tr>\n",
              "      <th>3</th>\n",
              "      <td>-2.534752</td>\n",
              "      <td>10.187015</td>\n",
              "      <td>5.183479</td>\n",
              "      <td>1.602555</td>\n",
              "      <td>-6.107928</td>\n",
              "      <td>-9.728652</td>\n",
              "      <td>-7.689562</td>\n",
              "      <td>5.583809</td>\n",
              "      <td>2</td>\n",
              "    </tr>\n",
              "    <tr>\n",
              "      <th>4</th>\n",
              "      <td>-7.609432</td>\n",
              "      <td>11.343119</td>\n",
              "      <td>7.873921</td>\n",
              "      <td>5.942684</td>\n",
              "      <td>-6.286156</td>\n",
              "      <td>-7.853906</td>\n",
              "      <td>4.050055</td>\n",
              "      <td>-1.236112</td>\n",
              "      <td>3</td>\n",
              "    </tr>\n",
              "  </tbody>\n",
              "</table>\n",
              "</div>\n",
              "    <div class=\"colab-df-buttons\">\n",
              "\n",
              "  <div class=\"colab-df-container\">\n",
              "    <button class=\"colab-df-convert\" onclick=\"convertToInteractive('df-8a14f047-6c03-4c03-bf5c-d4d9c42febde')\"\n",
              "            title=\"Convert this dataframe to an interactive table.\"\n",
              "            style=\"display:none;\">\n",
              "\n",
              "  <svg xmlns=\"http://www.w3.org/2000/svg\" height=\"24px\" viewBox=\"0 -960 960 960\">\n",
              "    <path d=\"M120-120v-720h720v720H120Zm60-500h600v-160H180v160Zm220 220h160v-160H400v160Zm0 220h160v-160H400v160ZM180-400h160v-160H180v160Zm440 0h160v-160H620v160ZM180-180h160v-160H180v160Zm440 0h160v-160H620v160Z\"/>\n",
              "  </svg>\n",
              "    </button>\n",
              "\n",
              "  <style>\n",
              "    .colab-df-container {\n",
              "      display:flex;\n",
              "      gap: 12px;\n",
              "    }\n",
              "\n",
              "    .colab-df-convert {\n",
              "      background-color: #E8F0FE;\n",
              "      border: none;\n",
              "      border-radius: 50%;\n",
              "      cursor: pointer;\n",
              "      display: none;\n",
              "      fill: #1967D2;\n",
              "      height: 32px;\n",
              "      padding: 0 0 0 0;\n",
              "      width: 32px;\n",
              "    }\n",
              "\n",
              "    .colab-df-convert:hover {\n",
              "      background-color: #E2EBFA;\n",
              "      box-shadow: 0px 1px 2px rgba(60, 64, 67, 0.3), 0px 1px 3px 1px rgba(60, 64, 67, 0.15);\n",
              "      fill: #174EA6;\n",
              "    }\n",
              "\n",
              "    .colab-df-buttons div {\n",
              "      margin-bottom: 4px;\n",
              "    }\n",
              "\n",
              "    [theme=dark] .colab-df-convert {\n",
              "      background-color: #3B4455;\n",
              "      fill: #D2E3FC;\n",
              "    }\n",
              "\n",
              "    [theme=dark] .colab-df-convert:hover {\n",
              "      background-color: #434B5C;\n",
              "      box-shadow: 0px 1px 3px 1px rgba(0, 0, 0, 0.15);\n",
              "      filter: drop-shadow(0px 1px 2px rgba(0, 0, 0, 0.3));\n",
              "      fill: #FFFFFF;\n",
              "    }\n",
              "  </style>\n",
              "\n",
              "    <script>\n",
              "      const buttonEl =\n",
              "        document.querySelector('#df-8a14f047-6c03-4c03-bf5c-d4d9c42febde button.colab-df-convert');\n",
              "      buttonEl.style.display =\n",
              "        google.colab.kernel.accessAllowed ? 'block' : 'none';\n",
              "\n",
              "      async function convertToInteractive(key) {\n",
              "        const element = document.querySelector('#df-8a14f047-6c03-4c03-bf5c-d4d9c42febde');\n",
              "        const dataTable =\n",
              "          await google.colab.kernel.invokeFunction('convertToInteractive',\n",
              "                                                    [key], {});\n",
              "        if (!dataTable) return;\n",
              "\n",
              "        const docLinkHtml = 'Like what you see? Visit the ' +\n",
              "          '<a target=\"_blank\" href=https://colab.research.google.com/notebooks/data_table.ipynb>data table notebook</a>'\n",
              "          + ' to learn more about interactive tables.';\n",
              "        element.innerHTML = '';\n",
              "        dataTable['output_type'] = 'display_data';\n",
              "        await google.colab.output.renderOutput(dataTable, element);\n",
              "        const docLink = document.createElement('div');\n",
              "        docLink.innerHTML = docLinkHtml;\n",
              "        element.appendChild(docLink);\n",
              "      }\n",
              "    </script>\n",
              "  </div>\n",
              "\n",
              "\n",
              "<div id=\"df-7b9daa0d-fcd0-46d5-888e-24e49a8ec7de\">\n",
              "  <button class=\"colab-df-quickchart\" onclick=\"quickchart('df-7b9daa0d-fcd0-46d5-888e-24e49a8ec7de')\"\n",
              "            title=\"Suggest charts\"\n",
              "            style=\"display:none;\">\n",
              "\n",
              "<svg xmlns=\"http://www.w3.org/2000/svg\" height=\"24px\"viewBox=\"0 0 24 24\"\n",
              "     width=\"24px\">\n",
              "    <g>\n",
              "        <path d=\"M19 3H5c-1.1 0-2 .9-2 2v14c0 1.1.9 2 2 2h14c1.1 0 2-.9 2-2V5c0-1.1-.9-2-2-2zM9 17H7v-7h2v7zm4 0h-2V7h2v10zm4 0h-2v-4h2v4z\"/>\n",
              "    </g>\n",
              "</svg>\n",
              "  </button>\n",
              "\n",
              "<style>\n",
              "  .colab-df-quickchart {\n",
              "      --bg-color: #E8F0FE;\n",
              "      --fill-color: #1967D2;\n",
              "      --hover-bg-color: #E2EBFA;\n",
              "      --hover-fill-color: #174EA6;\n",
              "      --disabled-fill-color: #AAA;\n",
              "      --disabled-bg-color: #DDD;\n",
              "  }\n",
              "\n",
              "  [theme=dark] .colab-df-quickchart {\n",
              "      --bg-color: #3B4455;\n",
              "      --fill-color: #D2E3FC;\n",
              "      --hover-bg-color: #434B5C;\n",
              "      --hover-fill-color: #FFFFFF;\n",
              "      --disabled-bg-color: #3B4455;\n",
              "      --disabled-fill-color: #666;\n",
              "  }\n",
              "\n",
              "  .colab-df-quickchart {\n",
              "    background-color: var(--bg-color);\n",
              "    border: none;\n",
              "    border-radius: 50%;\n",
              "    cursor: pointer;\n",
              "    display: none;\n",
              "    fill: var(--fill-color);\n",
              "    height: 32px;\n",
              "    padding: 0;\n",
              "    width: 32px;\n",
              "  }\n",
              "\n",
              "  .colab-df-quickchart:hover {\n",
              "    background-color: var(--hover-bg-color);\n",
              "    box-shadow: 0 1px 2px rgba(60, 64, 67, 0.3), 0 1px 3px 1px rgba(60, 64, 67, 0.15);\n",
              "    fill: var(--button-hover-fill-color);\n",
              "  }\n",
              "\n",
              "  .colab-df-quickchart-complete:disabled,\n",
              "  .colab-df-quickchart-complete:disabled:hover {\n",
              "    background-color: var(--disabled-bg-color);\n",
              "    fill: var(--disabled-fill-color);\n",
              "    box-shadow: none;\n",
              "  }\n",
              "\n",
              "  .colab-df-spinner {\n",
              "    border: 2px solid var(--fill-color);\n",
              "    border-color: transparent;\n",
              "    border-bottom-color: var(--fill-color);\n",
              "    animation:\n",
              "      spin 1s steps(1) infinite;\n",
              "  }\n",
              "\n",
              "  @keyframes spin {\n",
              "    0% {\n",
              "      border-color: transparent;\n",
              "      border-bottom-color: var(--fill-color);\n",
              "      border-left-color: var(--fill-color);\n",
              "    }\n",
              "    20% {\n",
              "      border-color: transparent;\n",
              "      border-left-color: var(--fill-color);\n",
              "      border-top-color: var(--fill-color);\n",
              "    }\n",
              "    30% {\n",
              "      border-color: transparent;\n",
              "      border-left-color: var(--fill-color);\n",
              "      border-top-color: var(--fill-color);\n",
              "      border-right-color: var(--fill-color);\n",
              "    }\n",
              "    40% {\n",
              "      border-color: transparent;\n",
              "      border-right-color: var(--fill-color);\n",
              "      border-top-color: var(--fill-color);\n",
              "    }\n",
              "    60% {\n",
              "      border-color: transparent;\n",
              "      border-right-color: var(--fill-color);\n",
              "    }\n",
              "    80% {\n",
              "      border-color: transparent;\n",
              "      border-right-color: var(--fill-color);\n",
              "      border-bottom-color: var(--fill-color);\n",
              "    }\n",
              "    90% {\n",
              "      border-color: transparent;\n",
              "      border-bottom-color: var(--fill-color);\n",
              "    }\n",
              "  }\n",
              "</style>\n",
              "\n",
              "  <script>\n",
              "    async function quickchart(key) {\n",
              "      const quickchartButtonEl =\n",
              "        document.querySelector('#' + key + ' button');\n",
              "      quickchartButtonEl.disabled = true;  // To prevent multiple clicks.\n",
              "      quickchartButtonEl.classList.add('colab-df-spinner');\n",
              "      try {\n",
              "        const charts = await google.colab.kernel.invokeFunction(\n",
              "            'suggestCharts', [key], {});\n",
              "      } catch (error) {\n",
              "        console.error('Error during call to suggestCharts:', error);\n",
              "      }\n",
              "      quickchartButtonEl.classList.remove('colab-df-spinner');\n",
              "      quickchartButtonEl.classList.add('colab-df-quickchart-complete');\n",
              "    }\n",
              "    (() => {\n",
              "      let quickchartButtonEl =\n",
              "        document.querySelector('#df-7b9daa0d-fcd0-46d5-888e-24e49a8ec7de button');\n",
              "      quickchartButtonEl.style.display =\n",
              "        google.colab.kernel.accessAllowed ? 'block' : 'none';\n",
              "    })();\n",
              "  </script>\n",
              "</div>\n",
              "\n",
              "    </div>\n",
              "  </div>\n"
            ]
          },
          "metadata": {},
          "execution_count": 35
        }
      ]
    },
    {
      "cell_type": "markdown",
      "source": [
        "**Predict  new data**"
      ],
      "metadata": {
        "id": "yQK48D2qPD8U"
      }
    },
    {
      "cell_type": "code",
      "source": [
        "# Create a new observation (for demonstration)\n",
        "new_observation = rng.uniform(low=-10, high=10, size=8).reshape(1, -1)\n",
        "new_observation"
      ],
      "metadata": {
        "colab": {
          "base_uri": "https://localhost:8080/"
        },
        "id": "UUWYz5RPPJCi",
        "outputId": "9f273fe7-493a-437c-c5ba-0aa1d4492e23"
      },
      "execution_count": 38,
      "outputs": [
        {
          "output_type": "execute_result",
          "data": {
            "text/plain": [
              "array([[-3.24076102,  3.55445635,  2.33068343,  9.09872328, -1.77198438,\n",
              "         8.79283624,  8.53497386,  4.31143484]])"
            ]
          },
          "metadata": {},
          "execution_count": 38
        }
      ]
    },
    {
      "cell_type": "code",
      "source": [
        "# Instantiate the scaler and fit it to the original X data\n",
        "scaler = StandardScaler().fit(X.iloc[:,:-1])\n",
        "\n",
        "# Apply the scaler to the new observation\n",
        "new_observation_scaled = scaler.transform(new_observation)\n",
        "new_observation_scaled"
      ],
      "metadata": {
        "colab": {
          "base_uri": "https://localhost:8080/"
        },
        "id": "k6cB-w5nPMO5",
        "outputId": "fddcfefb-f22f-434f-b97f-25dbfe9910a3"
      },
      "execution_count": 39,
      "outputs": [
        {
          "output_type": "execute_result",
          "data": {
            "text/plain": [
              "array([[-0.11921541, -0.61558802,  0.42408047,  1.3258928 , -0.37108509,\n",
              "        10.67289781,  2.28420505,  1.20412411]])"
            ]
          },
          "metadata": {},
          "execution_count": 39
        }
      ]
    },
    {
      "cell_type": "code",
      "source": [
        "# Predict cluster assignment of new_observation\n",
        "new_prediction = kmeans5.predict(new_observation_scaled)\n",
        "new_prediction"
      ],
      "metadata": {
        "colab": {
          "base_uri": "https://localhost:8080/"
        },
        "id": "_M_7Wi9kPWjL",
        "outputId": "88fdb2ca-ba0f-4de2-a7a4-5df962021a21"
      },
      "execution_count": 40,
      "outputs": [
        {
          "output_type": "execute_result",
          "data": {
            "text/plain": [
              "array([0], dtype=int32)"
            ]
          },
          "metadata": {},
          "execution_count": 40
        }
      ]
    },
    {
      "cell_type": "markdown",
      "source": [
        "**Determine the distance to each centroid**"
      ],
      "metadata": {
        "id": "og8lzZzLPaKp"
      }
    },
    {
      "cell_type": "code",
      "source": [
        "# Calculate distances between new data and each centroid\n",
        "distances = kmeans5.transform(new_observation_scaled)\n",
        "distances"
      ],
      "metadata": {
        "colab": {
          "base_uri": "https://localhost:8080/"
        },
        "id": "0gna00VIPeQn",
        "outputId": "140dda36-8fc5-4849-886f-1d163f082cd7"
      },
      "execution_count": 41,
      "outputs": [
        {
          "output_type": "execute_result",
          "data": {
            "text/plain": [
              "array([[10.63624657, 11.3995834 , 11.18683845, 11.46031327, 12.3167428 ]])"
            ]
          },
          "metadata": {},
          "execution_count": 41
        }
      ]
    }
  ]
}